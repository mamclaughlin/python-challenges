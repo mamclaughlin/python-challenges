{
 "cells": [
  {
   "cell_type": "code",
   "execution_count": 1,
   "metadata": {},
   "outputs": [
    {
     "ename": "NameError",
     "evalue": "name 'regNum' is not defined",
     "output_type": "error",
     "traceback": [
      "\u001b[0;31m---------------------------------------------------------------------------\u001b[0m",
      "\u001b[0;31mNameError\u001b[0m                                 Traceback (most recent call last)",
      "\u001b[0;32m<ipython-input-1-1801e152e373>\u001b[0m in \u001b[0;36m<module>\u001b[0;34m()\u001b[0m\n\u001b[1;32m     29\u001b[0m                 \u001b[0mlargestNum\u001b[0m\u001b[0;34m.\u001b[0m\u001b[0msort\u001b[0m\u001b[0;34m(\u001b[0m\u001b[0;34m)\u001b[0m\u001b[0;34m\u001b[0m\u001b[0m\n\u001b[1;32m     30\u001b[0m         \u001b[0;31m# print(largestNum[-1:])\u001b[0m\u001b[0;34m\u001b[0m\u001b[0;34m\u001b[0m\u001b[0m\n\u001b[0;32m---> 31\u001b[0;31m                 \u001b[0mregNum\u001b[0m\u001b[0;34m.\u001b[0m\u001b[0mappend\u001b[0m\u001b[0;34m(\u001b[0m\u001b[0mrow\u001b[0m\u001b[0;34m[\u001b[0m\u001b[0;36m1\u001b[0m\u001b[0;34m]\u001b[0m\u001b[0;34m)\u001b[0m\u001b[0;34m\u001b[0m\u001b[0m\n\u001b[0m\u001b[1;32m     32\u001b[0m                 \u001b[0mmonthsVal\u001b[0m\u001b[0;34m.\u001b[0m\u001b[0mappend\u001b[0m\u001b[0;34m(\u001b[0m\u001b[0mrow\u001b[0m\u001b[0;34m[\u001b[0m\u001b[0;36m0\u001b[0m\u001b[0;34m]\u001b[0m\u001b[0;34m)\u001b[0m\u001b[0;34m\u001b[0m\u001b[0m\n\u001b[1;32m     33\u001b[0m \u001b[0;34m\u001b[0m\u001b[0m\n",
      "\u001b[0;31mNameError\u001b[0m: name 'regNum' is not defined"
     ]
    }
   ],
   "source": [
    "# The total number of months included in the dataset --done\n",
    "# The total amount of revenue gained over the entire period --done\n",
    "# The average change in revenue between months over the entire period --done\n",
    "# The greatest increase in revenue (date and amount) over the entire period\n",
    "# The greatest decrease in revenue (date and amount) over the entire period\n",
    "\n",
    "import os\n",
    "import csv\n",
    "import numpy\n",
    "\n",
    "months = 0\n",
    "revenue = 0\n",
    "largestNum = []\n",
    "numbers = []\n",
    "monthsVal = []\n",
    "\n",
    "csvpath = os.path.join(\"Resources\", 'budget_data_1.csv')\n",
    "\n",
    "with open(csvpath) as csvfile:\n",
    "\n",
    "\tcsvreader = csv.reader(csvfile, delimiter=',')\n",
    "\tnext(csvreader, None)\n",
    "\n",
    "\tfor row in csvreader:\n",
    "\t\tmonths += 1\n",
    "\t\trevenue += int(row[1])\n",
    "\t\tchange = round(float(revenue/months),2)\n",
    "\t\tlargestNum.append(row[1])\n",
    "\t\tlargestNum.sort()\n",
    "\t# print(largestNum[-1:])\n",
    "\t\tregNum.append(row[1])\n",
    "\t\tmonthsVal.append(row[0])\n",
    "\n",
    "\t# t = regNum[3:6]\n",
    "\t# print(t)\n",
    "\n",
    "\t# v = [t[i+1]-t[i] for i in range(len(t)-1)]\n",
    "\t# print(v)\n",
    "\n",
    "\t# newlist = [abs(i-j) for i in list(regNum) for j in list(regNum) if i != j]\n",
    "\n",
    "\t# for item in newlist:\n",
    "\t# \tprint(newlist)\n",
    "\t# print(regNum)\t\n",
    "\t# print(monthsVal)\n",
    "\n",
    "\t# for item in regNum:\n",
    "\t# \tprev_Value = regNum[item]\n",
    "\t# \tnext_Value = regNum[item + 1]\n",
    "\n",
    "\t# bankData = list(zip(monthsVal,regNum))\n",
    "\t# zipped_data = bankData[:]\n",
    "\t# zipped_data_list = list(bankData)\n",
    "\n",
    "\t# print(zipped_data_list)\n",
    "\n",
    "\n",
    "\t# print(\"\\n\\nFinancial Analysis\")\n",
    "\t# print(\"============================\")\t\n",
    "\t# print(\"Number of months: \" + str(months))\n",
    "\t# print(\"Total Revenue: $\" + str(revenue))\n",
    "\t# print(\"Average change in revenue: $\" + str(change))\n",
    "\t# print(\"Greatest increase in revenue: \")\n",
    "\t# print(\"Greatest decrease in revenue: \")\n",
    "\n",
    "\n",
    "\n"
   ]
  },
  {
   "cell_type": "code",
   "execution_count": 2,
   "metadata": {
    "collapsed": true
   },
   "outputs": [],
   "source": [
    "# The total number of months included in the dataset --done\n",
    "# The total amount of revenue gained over the entire period --done\n",
    "# The average change in revenue between months over the entire period --done\n",
    "# The greatest increase in revenue (date and amount) over the entire period\n",
    "# The greatest decrease in revenue (date and amount) over the entire period\n",
    "\n",
    "import os\n",
    "import csv\n",
    "import numpy\n",
    "\n",
    "months = 0\n",
    "revenue = 0\n",
    "largestNum = []\n",
    "regNum = []\n",
    "monthsVal = []\n",
    "\n",
    "csvpath = os.path.join(\"Resources\", 'budget_data_1.csv')\n",
    "\n",
    "with open(csvpath) as csvfile:\n",
    "\n",
    "\tcsvreader = csv.reader(csvfile, delimiter=',')\n",
    "\tnext(csvreader, None)\n",
    "\n",
    "\tfor row in csvreader:\n",
    "\t\tmonths += 1\n",
    "\t\trevenue += int(row[1])\n",
    "\t\tchange = round(float(revenue/months),2)\n",
    "\t\tlargestNum.append(row[1])\n",
    "\t\tlargestNum.sort()\n",
    "\t# print(largestNum[-1:])\n",
    "\t\tregNum.append(row[1])\n",
    "\t\tmonthsVal.append(row[0])\n",
    "\n",
    "\t# t = regNum[3:6]\n",
    "\t# print(t)\n",
    "\n",
    "\t# v = [t[i+1]-t[i] for i in range(len(t)-1)]\n",
    "\t# print(v)\n",
    "\n",
    "\t# newlist = [abs(i-j) for i in list(regNum) for j in list(regNum) if i != j]\n",
    "\n",
    "\t# for item in newlist:\n",
    "\t# \tprint(newlist)\n",
    "\t# print(regNum)\t\n",
    "\t# print(monthsVal)\n",
    "\n",
    "\t# for item in regNum:\n",
    "\t# \tprev_Value = regNum[item]\n",
    "\t# \tnext_Value = regNum[item + 1]\n",
    "\n",
    "\t# bankData = list(zip(monthsVal,regNum))\n",
    "\t# zipped_data = bankData[:]\n",
    "\t# zipped_data_list = list(bankData)\n",
    "\n",
    "\t# print(zipped_data_list)\n",
    "\n",
    "\n",
    "\t# print(\"\\n\\nFinancial Analysis\")\n",
    "\t# print(\"============================\")\t\n",
    "\t# print(\"Number of months: \" + str(months))\n",
    "\t# print(\"Total Revenue: $\" + str(revenue))\n",
    "\t# print(\"Average change in revenue: $\" + str(change))\n",
    "\t# print(\"Greatest increase in revenue: \")\n",
    "\t# print(\"Greatest decrease in revenue: \")\n",
    "\n",
    "\n",
    "\n",
    "\n",
    "    "
   ]
  },
  {
   "cell_type": "code",
   "execution_count": 3,
   "metadata": {},
   "outputs": [
    {
     "name": "stdout",
     "output_type": "stream",
     "text": [
      "['1154293', '885773', '-448704', '563679', '555394', '631974', '957395', '1104047', '693464', '454932', '727272', '125016', '339251', '78523', '977084', '1158718', '332681', '-341227', '173826', '742611', '1189806', '607363', '-1172384', '587993', '295198', '-300390', '468995', '698452', '967828', '-454873', '375723', '1140526', '83836', '413189', '551363', '1195111', '657081', '66659', '803301', '-953301', '883934']\n"
     ]
    }
   ],
   "source": [
    "\tt = regNum\n",
    "\tprint(t)"
   ]
  },
  {
   "cell_type": "code",
   "execution_count": 7,
   "metadata": {},
   "outputs": [
    {
     "ename": "TypeError",
     "evalue": "unsupported operand type(s) for -: 'str' and 'str'",
     "output_type": "error",
     "traceback": [
      "\u001b[0;31m---------------------------------------------------------------------------\u001b[0m",
      "\u001b[0;31mTypeError\u001b[0m                                 Traceback (most recent call last)",
      "\u001b[0;32m<ipython-input-7-d31faadbaecd>\u001b[0m in \u001b[0;36m<module>\u001b[0;34m()\u001b[0m\n\u001b[0;32m----> 1\u001b[0;31m \u001b[0mv\u001b[0m \u001b[0;34m=\u001b[0m \u001b[0;34m[\u001b[0m\u001b[0mt\u001b[0m\u001b[0;34m[\u001b[0m\u001b[0mi\u001b[0m\u001b[0;34m+\u001b[0m\u001b[0;36m1\u001b[0m\u001b[0;34m]\u001b[0m\u001b[0;34m-\u001b[0m\u001b[0mt\u001b[0m\u001b[0;34m[\u001b[0m\u001b[0mi\u001b[0m\u001b[0;34m]\u001b[0m \u001b[0;32mfor\u001b[0m \u001b[0mi\u001b[0m \u001b[0;32min\u001b[0m \u001b[0mrange\u001b[0m\u001b[0;34m(\u001b[0m\u001b[0mlen\u001b[0m\u001b[0;34m(\u001b[0m\u001b[0mt\u001b[0m\u001b[0;34m)\u001b[0m\u001b[0;34m-\u001b[0m\u001b[0;36m1\u001b[0m\u001b[0;34m)\u001b[0m\u001b[0;34m]\u001b[0m\u001b[0;34m\u001b[0m\u001b[0m\n\u001b[0m\u001b[1;32m      2\u001b[0m \u001b[0mv\u001b[0m\u001b[0;34m\u001b[0m\u001b[0m\n",
      "\u001b[0;32m<ipython-input-7-d31faadbaecd>\u001b[0m in \u001b[0;36m<listcomp>\u001b[0;34m(.0)\u001b[0m\n\u001b[0;32m----> 1\u001b[0;31m \u001b[0mv\u001b[0m \u001b[0;34m=\u001b[0m \u001b[0;34m[\u001b[0m\u001b[0mt\u001b[0m\u001b[0;34m[\u001b[0m\u001b[0mi\u001b[0m\u001b[0;34m+\u001b[0m\u001b[0;36m1\u001b[0m\u001b[0;34m]\u001b[0m\u001b[0;34m-\u001b[0m\u001b[0mt\u001b[0m\u001b[0;34m[\u001b[0m\u001b[0mi\u001b[0m\u001b[0;34m]\u001b[0m \u001b[0;32mfor\u001b[0m \u001b[0mi\u001b[0m \u001b[0;32min\u001b[0m \u001b[0mrange\u001b[0m\u001b[0;34m(\u001b[0m\u001b[0mlen\u001b[0m\u001b[0;34m(\u001b[0m\u001b[0mt\u001b[0m\u001b[0;34m)\u001b[0m\u001b[0;34m-\u001b[0m\u001b[0;36m1\u001b[0m\u001b[0;34m)\u001b[0m\u001b[0;34m]\u001b[0m\u001b[0;34m\u001b[0m\u001b[0m\n\u001b[0m\u001b[1;32m      2\u001b[0m \u001b[0mv\u001b[0m\u001b[0;34m\u001b[0m\u001b[0m\n",
      "\u001b[0;31mTypeError\u001b[0m: unsupported operand type(s) for -: 'str' and 'str'"
     ]
    }
   ],
   "source": [
    "\tv = [t[i+1]-t[i] for i in range(len(t)-1)]\n",
    "\tv"
   ]
  },
  {
   "cell_type": "code",
   "execution_count": 8,
   "metadata": {},
   "outputs": [
    {
     "data": {
      "text/plain": [
       "['1154293',\n",
       " '885773',\n",
       " '-448704',\n",
       " '563679',\n",
       " '555394',\n",
       " '631974',\n",
       " '957395',\n",
       " '1104047',\n",
       " '693464',\n",
       " '454932',\n",
       " '727272',\n",
       " '125016',\n",
       " '339251',\n",
       " '78523',\n",
       " '977084',\n",
       " '1158718',\n",
       " '332681',\n",
       " '-341227',\n",
       " '173826',\n",
       " '742611',\n",
       " '1189806',\n",
       " '607363',\n",
       " '-1172384',\n",
       " '587993',\n",
       " '295198',\n",
       " '-300390',\n",
       " '468995',\n",
       " '698452',\n",
       " '967828',\n",
       " '-454873',\n",
       " '375723',\n",
       " '1140526',\n",
       " '83836',\n",
       " '413189',\n",
       " '551363',\n",
       " '1195111',\n",
       " '657081',\n",
       " '66659',\n",
       " '803301',\n",
       " '-953301',\n",
       " '883934']"
      ]
     },
     "execution_count": 8,
     "metadata": {},
     "output_type": "execute_result"
    }
   ],
   "source": [
    "t = regNum\n",
    "t"
   ]
  },
  {
   "cell_type": "code",
   "execution_count": 9,
   "metadata": {},
   "outputs": [
    {
     "ename": "TypeError",
     "evalue": "unsupported operand type(s) for -: 'str' and 'str'",
     "output_type": "error",
     "traceback": [
      "\u001b[0;31m---------------------------------------------------------------------------\u001b[0m",
      "\u001b[0;31mTypeError\u001b[0m                                 Traceback (most recent call last)",
      "\u001b[0;32m<ipython-input-9-6a515206e0ca>\u001b[0m in \u001b[0;36m<module>\u001b[0;34m()\u001b[0m\n\u001b[0;32m----> 1\u001b[0;31m \u001b[0mv\u001b[0m \u001b[0;34m=\u001b[0m \u001b[0;34m[\u001b[0m\u001b[0mt\u001b[0m\u001b[0;34m[\u001b[0m\u001b[0mi\u001b[0m\u001b[0;34m+\u001b[0m\u001b[0;36m1\u001b[0m\u001b[0;34m]\u001b[0m\u001b[0;34m-\u001b[0m\u001b[0mt\u001b[0m\u001b[0;34m[\u001b[0m\u001b[0mi\u001b[0m\u001b[0;34m]\u001b[0m \u001b[0;32mfor\u001b[0m \u001b[0mi\u001b[0m \u001b[0;32min\u001b[0m \u001b[0mrange\u001b[0m\u001b[0;34m(\u001b[0m\u001b[0mlen\u001b[0m\u001b[0;34m(\u001b[0m\u001b[0mt\u001b[0m\u001b[0;34m)\u001b[0m\u001b[0;34m-\u001b[0m\u001b[0;36m1\u001b[0m\u001b[0;34m)\u001b[0m\u001b[0;34m]\u001b[0m\u001b[0;34m\u001b[0m\u001b[0m\n\u001b[0m",
      "\u001b[0;32m<ipython-input-9-6a515206e0ca>\u001b[0m in \u001b[0;36m<listcomp>\u001b[0;34m(.0)\u001b[0m\n\u001b[0;32m----> 1\u001b[0;31m \u001b[0mv\u001b[0m \u001b[0;34m=\u001b[0m \u001b[0;34m[\u001b[0m\u001b[0mt\u001b[0m\u001b[0;34m[\u001b[0m\u001b[0mi\u001b[0m\u001b[0;34m+\u001b[0m\u001b[0;36m1\u001b[0m\u001b[0;34m]\u001b[0m\u001b[0;34m-\u001b[0m\u001b[0mt\u001b[0m\u001b[0;34m[\u001b[0m\u001b[0mi\u001b[0m\u001b[0;34m]\u001b[0m \u001b[0;32mfor\u001b[0m \u001b[0mi\u001b[0m \u001b[0;32min\u001b[0m \u001b[0mrange\u001b[0m\u001b[0;34m(\u001b[0m\u001b[0mlen\u001b[0m\u001b[0;34m(\u001b[0m\u001b[0mt\u001b[0m\u001b[0;34m)\u001b[0m\u001b[0;34m-\u001b[0m\u001b[0;36m1\u001b[0m\u001b[0;34m)\u001b[0m\u001b[0;34m]\u001b[0m\u001b[0;34m\u001b[0m\u001b[0m\n\u001b[0m",
      "\u001b[0;31mTypeError\u001b[0m: unsupported operand type(s) for -: 'str' and 'str'"
     ]
    }
   ],
   "source": [
    "v = [t[i+1]-t[i] for i in range(len(t)-1)]"
   ]
  },
  {
   "cell_type": "code",
   "execution_count": null,
   "metadata": {
    "collapsed": true
   },
   "outputs": [],
   "source": []
  }
 ],
 "metadata": {
  "kernelspec": {
   "display_name": "Python [conda env:PythonData]",
   "language": "python",
   "name": "conda-env-PythonData-py"
  },
  "language_info": {
   "codemirror_mode": {
    "name": "ipython",
    "version": 3
   },
   "file_extension": ".py",
   "mimetype": "text/x-python",
   "name": "python",
   "nbconvert_exporter": "python",
   "pygments_lexer": "ipython3",
   "version": "3.6.1"
  }
 },
 "nbformat": 4,
 "nbformat_minor": 2
}
